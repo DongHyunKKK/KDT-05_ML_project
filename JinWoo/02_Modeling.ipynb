{
 "cells": [
  {
   "cell_type": "markdown",
   "metadata": {},
   "source": [
    "우선 모델링을 먼저 해보자\n",
    "model list\n",
    "1. LinearRegression\n",
    "2. KNN Regressor\n",
    "3. SVM\n",
    "4. Ridge, Lasso\n",
    "5. "
   ]
  },
  {
   "cell_type": "code",
   "execution_count": null,
   "metadata": {},
   "outputs": [],
   "source": [
    "# 1. Load Data\n",
    "import pandas as pd\n",
    "\n",
    "\n"
   ]
  }
 ],
 "metadata": {
  "language_info": {
   "name": "python"
  }
 },
 "nbformat": 4,
 "nbformat_minor": 2
}
