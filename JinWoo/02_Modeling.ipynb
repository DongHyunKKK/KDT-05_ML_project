{
 "cells": [
  {
   "cell_type": "markdown",
   "metadata": {},
   "source": [
    "우선 모델링을 먼저 해보자\n",
    "model list\n",
    "1. LinearRegression\n",
    "2. KNN Regressor\n",
    "3. SVM\n",
    "4. Ridge, Lasso\n",
    "5. "
   ]
  },
  {
   "cell_type": "code",
   "execution_count": 1,
   "metadata": {},
   "outputs": [
    {
     "name": "stdout",
     "output_type": "stream",
     "text": [
      "<class 'pandas.core.frame.DataFrame'>\n",
      "RangeIndex: 2047 entries, 0 to 2046\n",
      "Data columns (total 22 columns):\n",
      " #   Column                          Non-Null Count  Dtype  \n",
      "---  ------                          --------------  -----  \n",
      " 0   Gender                          2047 non-null   int64  \n",
      " 1   Age                             2047 non-null   int64  \n",
      " 2   Height                          2047 non-null   float64\n",
      " 3   Weight                          2047 non-null   float64\n",
      " 4   family_history_with_overweight  2047 non-null   int64  \n",
      " 5   FAVC                            2047 non-null   int64  \n",
      " 6   FCVC                            2047 non-null   int64  \n",
      " 7   NCP                             2047 non-null   int64  \n",
      " 8   CAEC                            2047 non-null   int64  \n",
      " 9   SMOKE                           2047 non-null   int64  \n",
      " 10  CH2O                            2047 non-null   int64  \n",
      " 11  SCC                             2047 non-null   int64  \n",
      " 12  FAF                             2047 non-null   int64  \n",
      " 13  TUE                             2047 non-null   int64  \n",
      " 14  CALC                            2047 non-null   int64  \n",
      " 15  MTRANS_Automobile               2047 non-null   int64  \n",
      " 16  MTRANS_Bike                     2047 non-null   int64  \n",
      " 17  MTRANS_Motorbike                2047 non-null   int64  \n",
      " 18  MTRANS_Public_Transportation    2047 non-null   int64  \n",
      " 19  MTRANS_Walking                  2047 non-null   int64  \n",
      " 20  NObeyesdad                      2047 non-null   int64  \n",
      " 21  BMI                             2047 non-null   float64\n",
      "dtypes: float64(3), int64(19)\n",
      "memory usage: 352.0 KB\n"
     ]
    }
   ],
   "source": [
    "# 1. Load Data\n",
    "import pandas as pd\n",
    "\n",
    "dataDF = pd.read_csv('obesity.csv')\n",
    "dataDF.info()"
   ]
  },
  {
   "cell_type": "code",
   "execution_count": 2,
   "metadata": {},
   "outputs": [
    {
     "data": {
      "text/plain": [
       "Index(['Gender', 'Age', 'Height', 'family_history_with_overweight', 'FAVC',\n",
       "       'FCVC', 'NCP', 'CAEC', 'CH2O', 'FAF', 'TUE', 'CALC',\n",
       "       'MTRANS_Automobile', 'MTRANS_Public_Transportation', 'BMI'],\n",
       "      dtype='object')"
      ]
     },
     "execution_count": 2,
     "metadata": {},
     "output_type": "execute_result"
    }
   ],
   "source": [
    "# 2. Feature Selection\n",
    "# : ['Gender', 'Age', 'Height', 'Weight', 'family_history_with_overweight', 'FAVC', 'FCVC', 'NCP', 'CAEC', 'SMOKE', 'CH2O', 'SCC', 'FAF', 'TUE', 'CALC', 'MTRANS_Automobile', 'MTRANS_Bike', 'MTRANS_Motorbike', 'MTRANS_Public_Transportation', 'MTRANS_Walking', 'NObeyesdad', 'BMI']\n",
    "# 1) Feature 선별:\n",
    "#       1. 비만도 제거 NObeyesdad\n",
    "#       2. 과편향 데이터 제거\n",
    "dataDF.columns\n",
    "dataDF.drop(['Weight', 'SMOKE','SCC','MTRANS_Bike', 'MTRANS_Motorbike', 'MTRANS_Walking', 'NObeyesdad'], axis=1, inplace=True)\n",
    "dataDF.columns"
   ]
  },
  {
   "cell_type": "code",
   "execution_count": 3,
   "metadata": {},
   "outputs": [
    {
     "data": {
      "text/html": [
       "<div>\n",
       "<style scoped>\n",
       "    .dataframe tbody tr th:only-of-type {\n",
       "        vertical-align: middle;\n",
       "    }\n",
       "\n",
       "    .dataframe tbody tr th {\n",
       "        vertical-align: top;\n",
       "    }\n",
       "\n",
       "    .dataframe thead th {\n",
       "        text-align: right;\n",
       "    }\n",
       "</style>\n",
       "<table border=\"1\" class=\"dataframe\">\n",
       "  <thead>\n",
       "    <tr style=\"text-align: right;\">\n",
       "      <th></th>\n",
       "      <th>성별</th>\n",
       "      <th>나이</th>\n",
       "      <th>키</th>\n",
       "      <th>가족력</th>\n",
       "      <th>고열량 섭취 빈도</th>\n",
       "      <th>채소 섭취 빈도</th>\n",
       "      <th>하루 섭취 끼니 수</th>\n",
       "      <th>간식 섭취 빈도</th>\n",
       "      <th>물 섭취량</th>\n",
       "      <th>활동량</th>\n",
       "      <th>스마트폰 사용량</th>\n",
       "      <th>음주 빈도</th>\n",
       "      <th>이동 수단 : 자가용</th>\n",
       "      <th>이동수단 : 대중교통</th>\n",
       "      <th>BMI</th>\n",
       "    </tr>\n",
       "  </thead>\n",
       "  <tbody>\n",
       "    <tr>\n",
       "      <th>0</th>\n",
       "      <td>0</td>\n",
       "      <td>21</td>\n",
       "      <td>1.620</td>\n",
       "      <td>0</td>\n",
       "      <td>0</td>\n",
       "      <td>2</td>\n",
       "      <td>3</td>\n",
       "      <td>2</td>\n",
       "      <td>2</td>\n",
       "      <td>0</td>\n",
       "      <td>1</td>\n",
       "      <td>3</td>\n",
       "      <td>0</td>\n",
       "      <td>1</td>\n",
       "      <td>24.386526</td>\n",
       "    </tr>\n",
       "    <tr>\n",
       "      <th>1</th>\n",
       "      <td>0</td>\n",
       "      <td>21</td>\n",
       "      <td>1.520</td>\n",
       "      <td>0</td>\n",
       "      <td>0</td>\n",
       "      <td>3</td>\n",
       "      <td>3</td>\n",
       "      <td>2</td>\n",
       "      <td>3</td>\n",
       "      <td>3</td>\n",
       "      <td>0</td>\n",
       "      <td>2</td>\n",
       "      <td>0</td>\n",
       "      <td>1</td>\n",
       "      <td>24.238227</td>\n",
       "    </tr>\n",
       "    <tr>\n",
       "      <th>2</th>\n",
       "      <td>1</td>\n",
       "      <td>23</td>\n",
       "      <td>1.800</td>\n",
       "      <td>0</td>\n",
       "      <td>0</td>\n",
       "      <td>2</td>\n",
       "      <td>3</td>\n",
       "      <td>2</td>\n",
       "      <td>2</td>\n",
       "      <td>2</td>\n",
       "      <td>1</td>\n",
       "      <td>1</td>\n",
       "      <td>0</td>\n",
       "      <td>1</td>\n",
       "      <td>23.765432</td>\n",
       "    </tr>\n",
       "    <tr>\n",
       "      <th>3</th>\n",
       "      <td>1</td>\n",
       "      <td>27</td>\n",
       "      <td>1.800</td>\n",
       "      <td>1</td>\n",
       "      <td>0</td>\n",
       "      <td>3</td>\n",
       "      <td>3</td>\n",
       "      <td>2</td>\n",
       "      <td>2</td>\n",
       "      <td>2</td>\n",
       "      <td>0</td>\n",
       "      <td>1</td>\n",
       "      <td>0</td>\n",
       "      <td>0</td>\n",
       "      <td>26.851852</td>\n",
       "    </tr>\n",
       "    <tr>\n",
       "      <th>4</th>\n",
       "      <td>1</td>\n",
       "      <td>22</td>\n",
       "      <td>1.780</td>\n",
       "      <td>1</td>\n",
       "      <td>0</td>\n",
       "      <td>2</td>\n",
       "      <td>1</td>\n",
       "      <td>2</td>\n",
       "      <td>2</td>\n",
       "      <td>0</td>\n",
       "      <td>0</td>\n",
       "      <td>2</td>\n",
       "      <td>0</td>\n",
       "      <td>1</td>\n",
       "      <td>28.342381</td>\n",
       "    </tr>\n",
       "    <tr>\n",
       "      <th>...</th>\n",
       "      <td>...</td>\n",
       "      <td>...</td>\n",
       "      <td>...</td>\n",
       "      <td>...</td>\n",
       "      <td>...</td>\n",
       "      <td>...</td>\n",
       "      <td>...</td>\n",
       "      <td>...</td>\n",
       "      <td>...</td>\n",
       "      <td>...</td>\n",
       "      <td>...</td>\n",
       "      <td>...</td>\n",
       "      <td>...</td>\n",
       "      <td>...</td>\n",
       "      <td>...</td>\n",
       "    </tr>\n",
       "    <tr>\n",
       "      <th>2042</th>\n",
       "      <td>0</td>\n",
       "      <td>21</td>\n",
       "      <td>1.711</td>\n",
       "      <td>0</td>\n",
       "      <td>1</td>\n",
       "      <td>3</td>\n",
       "      <td>3</td>\n",
       "      <td>2</td>\n",
       "      <td>2</td>\n",
       "      <td>2</td>\n",
       "      <td>1</td>\n",
       "      <td>2</td>\n",
       "      <td>0</td>\n",
       "      <td>1</td>\n",
       "      <td>44.884392</td>\n",
       "    </tr>\n",
       "    <tr>\n",
       "      <th>2043</th>\n",
       "      <td>0</td>\n",
       "      <td>22</td>\n",
       "      <td>1.749</td>\n",
       "      <td>0</td>\n",
       "      <td>1</td>\n",
       "      <td>3</td>\n",
       "      <td>3</td>\n",
       "      <td>2</td>\n",
       "      <td>2</td>\n",
       "      <td>1</td>\n",
       "      <td>1</td>\n",
       "      <td>2</td>\n",
       "      <td>0</td>\n",
       "      <td>1</td>\n",
       "      <td>43.707080</td>\n",
       "    </tr>\n",
       "    <tr>\n",
       "      <th>2044</th>\n",
       "      <td>0</td>\n",
       "      <td>23</td>\n",
       "      <td>1.752</td>\n",
       "      <td>0</td>\n",
       "      <td>1</td>\n",
       "      <td>3</td>\n",
       "      <td>3</td>\n",
       "      <td>2</td>\n",
       "      <td>2</td>\n",
       "      <td>1</td>\n",
       "      <td>1</td>\n",
       "      <td>2</td>\n",
       "      <td>0</td>\n",
       "      <td>1</td>\n",
       "      <td>43.557526</td>\n",
       "    </tr>\n",
       "    <tr>\n",
       "      <th>2045</th>\n",
       "      <td>0</td>\n",
       "      <td>24</td>\n",
       "      <td>1.739</td>\n",
       "      <td>0</td>\n",
       "      <td>1</td>\n",
       "      <td>3</td>\n",
       "      <td>3</td>\n",
       "      <td>2</td>\n",
       "      <td>3</td>\n",
       "      <td>1</td>\n",
       "      <td>1</td>\n",
       "      <td>2</td>\n",
       "      <td>0</td>\n",
       "      <td>1</td>\n",
       "      <td>44.078924</td>\n",
       "    </tr>\n",
       "    <tr>\n",
       "      <th>2046</th>\n",
       "      <td>0</td>\n",
       "      <td>24</td>\n",
       "      <td>1.739</td>\n",
       "      <td>0</td>\n",
       "      <td>1</td>\n",
       "      <td>3</td>\n",
       "      <td>3</td>\n",
       "      <td>2</td>\n",
       "      <td>3</td>\n",
       "      <td>1</td>\n",
       "      <td>1</td>\n",
       "      <td>2</td>\n",
       "      <td>0</td>\n",
       "      <td>1</td>\n",
       "      <td>44.145059</td>\n",
       "    </tr>\n",
       "  </tbody>\n",
       "</table>\n",
       "<p>2047 rows × 15 columns</p>\n",
       "</div>"
      ],
      "text/plain": [
       "      성별  나이      키  가족력  고열량 섭취 빈도  채소 섭취 빈도  하루 섭취 끼니 수  간식 섭취 빈도  물 섭취량  \\\n",
       "0      0  21  1.620    0          0         2           3         2      2   \n",
       "1      0  21  1.520    0          0         3           3         2      3   \n",
       "2      1  23  1.800    0          0         2           3         2      2   \n",
       "3      1  27  1.800    1          0         3           3         2      2   \n",
       "4      1  22  1.780    1          0         2           1         2      2   \n",
       "...   ..  ..    ...  ...        ...       ...         ...       ...    ...   \n",
       "2042   0  21  1.711    0          1         3           3         2      2   \n",
       "2043   0  22  1.749    0          1         3           3         2      2   \n",
       "2044   0  23  1.752    0          1         3           3         2      2   \n",
       "2045   0  24  1.739    0          1         3           3         2      3   \n",
       "2046   0  24  1.739    0          1         3           3         2      3   \n",
       "\n",
       "      활동량  스마트폰 사용량  음주 빈도  이동 수단 : 자가용  이동수단 : 대중교통        BMI  \n",
       "0       0         1      3            0            1  24.386526  \n",
       "1       3         0      2            0            1  24.238227  \n",
       "2       2         1      1            0            1  23.765432  \n",
       "3       2         0      1            0            0  26.851852  \n",
       "4       0         0      2            0            1  28.342381  \n",
       "...   ...       ...    ...          ...          ...        ...  \n",
       "2042    2         1      2            0            1  44.884392  \n",
       "2043    1         1      2            0            1  43.707080  \n",
       "2044    1         1      2            0            1  43.557526  \n",
       "2045    1         1      2            0            1  44.078924  \n",
       "2046    1         1      2            0            1  44.145059  \n",
       "\n",
       "[2047 rows x 15 columns]"
      ]
     },
     "execution_count": 3,
     "metadata": {},
     "output_type": "execute_result"
    }
   ],
   "source": [
    "# 2) 컬럼명 수정\n",
    "dataDF.columns = ['성별', '나이', '키', '가족력', '고열량 섭취 빈도', '채소 섭취 빈도', '하루 섭취 끼니 수', '간식 섭취 빈도', '물 섭취량', '활동량', '스마트폰 사용량', '음주 빈도', '이동 수단 : 자가용', '이동수단 : 대중교통', 'BMI']\n",
    "dataDF"
   ]
  },
  {
   "cell_type": "code",
   "execution_count": 44,
   "metadata": {},
   "outputs": [
    {
     "data": {
      "text/plain": [
       "Index(['성별', '나이', '키', '가족력', '고열량 섭취 빈도', '채소 섭취 빈도', '하루 섭취 끼니 수',\n",
       "       '간식 섭취 빈도', '물 섭취량', '활동량', '스마트폰 사용량', '음주 빈도', '이동 수단 : 자가용',\n",
       "       '이동수단 : 대중교통', 'BMI'],\n",
       "      dtype='object')"
      ]
     },
     "execution_count": 44,
     "metadata": {},
     "output_type": "execute_result"
    }
   ],
   "source": [
    "dataDF.columns"
   ]
  },
  {
   "cell_type": "code",
   "execution_count": 4,
   "metadata": {},
   "outputs": [],
   "source": [
    "# 3) 인사이트 : 상관계수, 분포도"
   ]
  },
  {
   "cell_type": "code",
   "execution_count": 5,
   "metadata": {},
   "outputs": [
    {
     "name": "stdout",
     "output_type": "stream",
     "text": [
      "(2047, 14) (2047,)\n"
     ]
    },
    {
     "name": "stdout",
     "output_type": "stream",
     "text": [
      "(1637, 14) (410, 14) (1637,) (410,)\n"
     ]
    }
   ],
   "source": [
    "# 4) Feature, Target Split\n",
    "feature = dataDF.drop('BMI', axis=1)\n",
    "target = dataDF['BMI']\n",
    "print(feature.shape, target.shape)\n",
    "\n",
    "# 5) train, test split\n",
    "from sklearn.model_selection import train_test_split\n",
    "\n",
    "X_train, X_test, y_train, y_test = train_test_split(feature, target, test_size=0.2, random_state=11)\n",
    "print(X_train.shape, X_test.shape, y_train.shape, y_test.shape)"
   ]
  },
  {
   "cell_type": "code",
   "execution_count": 6,
   "metadata": {},
   "outputs": [
    {
     "name": "stderr",
     "output_type": "stream",
     "text": [
      "c:\\Users\\wjs31\\.conda\\envs\\EXAM_MML\\lib\\site-packages\\sklearn\\base.py:464: UserWarning: X does not have valid feature names, but StandardScaler was fitted with feature names\n",
      "  warnings.warn(\n",
      "c:\\Users\\wjs31\\.conda\\envs\\EXAM_MML\\lib\\site-packages\\sklearn\\base.py:464: UserWarning: X does not have valid feature names, but StandardScaler was fitted with feature names\n",
      "  warnings.warn(\n"
     ]
    },
    {
     "data": {
      "text/html": [
       "<div>\n",
       "<style scoped>\n",
       "    .dataframe tbody tr th:only-of-type {\n",
       "        vertical-align: middle;\n",
       "    }\n",
       "\n",
       "    .dataframe tbody tr th {\n",
       "        vertical-align: top;\n",
       "    }\n",
       "\n",
       "    .dataframe thead th {\n",
       "        text-align: right;\n",
       "    }\n",
       "</style>\n",
       "<table border=\"1\" class=\"dataframe\">\n",
       "  <thead>\n",
       "    <tr style=\"text-align: right;\">\n",
       "      <th></th>\n",
       "      <th>성별</th>\n",
       "      <th>나이</th>\n",
       "      <th>키</th>\n",
       "      <th>가족력</th>\n",
       "      <th>고열량 섭취 빈도</th>\n",
       "      <th>채소 섭취 빈도</th>\n",
       "      <th>하루 섭취 끼니 수</th>\n",
       "      <th>간식 섭취 빈도</th>\n",
       "      <th>물 섭취량</th>\n",
       "      <th>활동량</th>\n",
       "      <th>스마트폰 사용량</th>\n",
       "      <th>음주 빈도</th>\n",
       "      <th>이동 수단 : 자가용</th>\n",
       "      <th>이동수단 : 대중교통</th>\n",
       "    </tr>\n",
       "  </thead>\n",
       "  <tbody>\n",
       "    <tr>\n",
       "      <th>1274</th>\n",
       "      <td>0</td>\n",
       "      <td>-0.189868</td>\n",
       "      <td>1.608</td>\n",
       "      <td>0</td>\n",
       "      <td>1</td>\n",
       "      <td>2</td>\n",
       "      <td>3</td>\n",
       "      <td>2</td>\n",
       "      <td>3</td>\n",
       "      <td>2</td>\n",
       "      <td>0</td>\n",
       "      <td>3</td>\n",
       "      <td>0</td>\n",
       "      <td>1</td>\n",
       "    </tr>\n",
       "    <tr>\n",
       "      <th>923</th>\n",
       "      <td>1</td>\n",
       "      <td>-0.692262</td>\n",
       "      <td>1.620</td>\n",
       "      <td>1</td>\n",
       "      <td>1</td>\n",
       "      <td>2</td>\n",
       "      <td>1</td>\n",
       "      <td>3</td>\n",
       "      <td>3</td>\n",
       "      <td>1</td>\n",
       "      <td>1</td>\n",
       "      <td>2</td>\n",
       "      <td>0</td>\n",
       "      <td>1</td>\n",
       "    </tr>\n",
       "    <tr>\n",
       "      <th>770</th>\n",
       "      <td>0</td>\n",
       "      <td>-1.194656</td>\n",
       "      <td>1.600</td>\n",
       "      <td>0</td>\n",
       "      <td>1</td>\n",
       "      <td>3</td>\n",
       "      <td>2</td>\n",
       "      <td>2</td>\n",
       "      <td>2</td>\n",
       "      <td>0</td>\n",
       "      <td>2</td>\n",
       "      <td>2</td>\n",
       "      <td>0</td>\n",
       "      <td>1</td>\n",
       "    </tr>\n",
       "    <tr>\n",
       "      <th>1721</th>\n",
       "      <td>1</td>\n",
       "      <td>0.145061</td>\n",
       "      <td>1.772</td>\n",
       "      <td>0</td>\n",
       "      <td>1</td>\n",
       "      <td>2</td>\n",
       "      <td>3</td>\n",
       "      <td>2</td>\n",
       "      <td>2</td>\n",
       "      <td>2</td>\n",
       "      <td>0</td>\n",
       "      <td>2</td>\n",
       "      <td>0</td>\n",
       "      <td>1</td>\n",
       "    </tr>\n",
       "    <tr>\n",
       "      <th>1585</th>\n",
       "      <td>1</td>\n",
       "      <td>0.814920</td>\n",
       "      <td>1.909</td>\n",
       "      <td>0</td>\n",
       "      <td>1</td>\n",
       "      <td>2</td>\n",
       "      <td>3</td>\n",
       "      <td>2</td>\n",
       "      <td>1</td>\n",
       "      <td>1</td>\n",
       "      <td>0</td>\n",
       "      <td>2</td>\n",
       "      <td>0</td>\n",
       "      <td>1</td>\n",
       "    </tr>\n",
       "    <tr>\n",
       "      <th>...</th>\n",
       "      <td>...</td>\n",
       "      <td>...</td>\n",
       "      <td>...</td>\n",
       "      <td>...</td>\n",
       "      <td>...</td>\n",
       "      <td>...</td>\n",
       "      <td>...</td>\n",
       "      <td>...</td>\n",
       "      <td>...</td>\n",
       "      <td>...</td>\n",
       "      <td>...</td>\n",
       "      <td>...</td>\n",
       "      <td>...</td>\n",
       "      <td>...</td>\n",
       "    </tr>\n",
       "    <tr>\n",
       "      <th>1578</th>\n",
       "      <td>1</td>\n",
       "      <td>0.145061</td>\n",
       "      <td>1.787</td>\n",
       "      <td>0</td>\n",
       "      <td>1</td>\n",
       "      <td>2</td>\n",
       "      <td>3</td>\n",
       "      <td>2</td>\n",
       "      <td>2</td>\n",
       "      <td>1</td>\n",
       "      <td>1</td>\n",
       "      <td>2</td>\n",
       "      <td>0</td>\n",
       "      <td>1</td>\n",
       "    </tr>\n",
       "    <tr>\n",
       "      <th>1434</th>\n",
       "      <td>0</td>\n",
       "      <td>2.489566</td>\n",
       "      <td>1.567</td>\n",
       "      <td>0</td>\n",
       "      <td>1</td>\n",
       "      <td>2</td>\n",
       "      <td>1</td>\n",
       "      <td>2</td>\n",
       "      <td>2</td>\n",
       "      <td>2</td>\n",
       "      <td>0</td>\n",
       "      <td>2</td>\n",
       "      <td>1</td>\n",
       "      <td>0</td>\n",
       "    </tr>\n",
       "    <tr>\n",
       "      <th>1194</th>\n",
       "      <td>0</td>\n",
       "      <td>-0.189868</td>\n",
       "      <td>1.665</td>\n",
       "      <td>0</td>\n",
       "      <td>1</td>\n",
       "      <td>3</td>\n",
       "      <td>1</td>\n",
       "      <td>2</td>\n",
       "      <td>3</td>\n",
       "      <td>0</td>\n",
       "      <td>2</td>\n",
       "      <td>3</td>\n",
       "      <td>0</td>\n",
       "      <td>1</td>\n",
       "    </tr>\n",
       "    <tr>\n",
       "      <th>1680</th>\n",
       "      <td>1</td>\n",
       "      <td>1.149849</td>\n",
       "      <td>1.910</td>\n",
       "      <td>0</td>\n",
       "      <td>1</td>\n",
       "      <td>2</td>\n",
       "      <td>3</td>\n",
       "      <td>2</td>\n",
       "      <td>2</td>\n",
       "      <td>1</td>\n",
       "      <td>1</td>\n",
       "      <td>2</td>\n",
       "      <td>0</td>\n",
       "      <td>1</td>\n",
       "    </tr>\n",
       "    <tr>\n",
       "      <th>1995</th>\n",
       "      <td>0</td>\n",
       "      <td>-0.357333</td>\n",
       "      <td>1.748</td>\n",
       "      <td>0</td>\n",
       "      <td>1</td>\n",
       "      <td>3</td>\n",
       "      <td>3</td>\n",
       "      <td>2</td>\n",
       "      <td>2</td>\n",
       "      <td>2</td>\n",
       "      <td>1</td>\n",
       "      <td>2</td>\n",
       "      <td>0</td>\n",
       "      <td>1</td>\n",
       "    </tr>\n",
       "  </tbody>\n",
       "</table>\n",
       "<p>410 rows × 14 columns</p>\n",
       "</div>"
      ],
      "text/plain": [
       "      성별        나이      키  가족력  고열량 섭취 빈도  채소 섭취 빈도  하루 섭취 끼니 수  간식 섭취 빈도  \\\n",
       "1274   0 -0.189868  1.608    0          1         2           3         2   \n",
       "923    1 -0.692262  1.620    1          1         2           1         3   \n",
       "770    0 -1.194656  1.600    0          1         3           2         2   \n",
       "1721   1  0.145061  1.772    0          1         2           3         2   \n",
       "1585   1  0.814920  1.909    0          1         2           3         2   \n",
       "...   ..       ...    ...  ...        ...       ...         ...       ...   \n",
       "1578   1  0.145061  1.787    0          1         2           3         2   \n",
       "1434   0  2.489566  1.567    0          1         2           1         2   \n",
       "1194   0 -0.189868  1.665    0          1         3           1         2   \n",
       "1680   1  1.149849  1.910    0          1         2           3         2   \n",
       "1995   0 -0.357333  1.748    0          1         3           3         2   \n",
       "\n",
       "      물 섭취량  활동량  스마트폰 사용량  음주 빈도  이동 수단 : 자가용  이동수단 : 대중교통  \n",
       "1274      3    2         0      3            0            1  \n",
       "923       3    1         1      2            0            1  \n",
       "770       2    0         2      2            0            1  \n",
       "1721      2    2         0      2            0            1  \n",
       "1585      1    1         0      2            0            1  \n",
       "...     ...  ...       ...    ...          ...          ...  \n",
       "1578      2    1         1      2            0            1  \n",
       "1434      2    2         0      2            1            0  \n",
       "1194      3    0         2      3            0            1  \n",
       "1680      2    1         1      2            0            1  \n",
       "1995      2    2         1      2            0            1  \n",
       "\n",
       "[410 rows x 14 columns]"
      ]
     },
     "execution_count": 6,
     "metadata": {},
     "output_type": "execute_result"
    }
   ],
   "source": [
    "# 6) Standardize : '나이'만 정규화하기\n",
    "from sklearn.preprocessing import StandardScaler\n",
    "scaler = StandardScaler()\n",
    "X_train_scaled, X_test_scaled = X_train.copy(), X_test.copy()\n",
    "scaler.fit(X_train_scaled[['나이']])\n",
    "X_train_scaled['나이'] = scaler.transform(X_train_scaled['나이'].values.reshape(-1,1))\n",
    "X_test_scaled['나이'] = scaler.transform(X_test_scaled['나이'].values.reshape(-1,1))\n",
    "X_test_scaled"
   ]
  },
  {
   "cell_type": "code",
   "execution_count": 49,
   "metadata": {},
   "outputs": [
    {
     "data": {
      "text/plain": [
       "(array([5.97140927]), array([24.13378131]))"
      ]
     },
     "execution_count": 49,
     "metadata": {},
     "output_type": "execute_result"
    }
   ],
   "source": [
    "# StandardScaler parameter\n",
    "scaler.scale_, scaler.mean_\n"
   ]
  },
  {
   "cell_type": "code",
   "execution_count": 48,
   "metadata": {},
   "outputs": [
    {
     "name": "stdout",
     "output_type": "stream",
     "text": [
      "[knn] train : 0.8502985526866591, test : 0.7254035435735884\n",
      "[linear] train : 0.4540184391128932, test : 0.46332120155351153\n",
      "[svm] train : 0.5638016981643451, test : 0.5865095662379763\n"
     ]
    }
   ],
   "source": [
    "# 3. Model Selection\n",
    "# 1) KNN Regression\n",
    "from sklearn.neighbors import KNeighborsRegressor\n",
    "\n",
    "knn_model = KNeighborsRegressor()\n",
    "knn_model.fit(X_train_scaled, y_train)\n",
    "\n",
    "# 2) Linear Regression\n",
    "from sklearn.linear_model import LinearRegression\n",
    "\n",
    "linear_model = LinearRegression()\n",
    "linear_model.fit(X_train_scaled, y_train)\n",
    "\n",
    "# 3) SVM\n",
    "from sklearn.svm import SVR\n",
    "\n",
    "svm_model = SVR()\n",
    "svm_model.fit(X_train_scaled, y_train)\n",
    "\n",
    "# 4. Evaluation\n",
    "print(f'[knn] train : {knn_model.score(X_train_scaled, y_train)}, test : {knn_model.score(X_test_scaled, y_test)}')\n",
    "print(f'[linear] train : {linear_model.score(X_train_scaled, y_train)}, test : {linear_model.score(X_test_scaled, y_test)}')\n",
    "print(f'[svm] train : {svm_model.score(X_train_scaled, y_train)}, test : {svm_model.score(X_test_scaled, y_test)}')"
   ]
  },
  {
   "cell_type": "markdown",
   "metadata": {},
   "source": [
    "knn, svm 은 생각보다 잘 나온다!  \n",
    "정규화 수정하니 svm도 떡락  \n",
    "linear 는 대부분 범주화 데이터라 점수가 낮은 듯"
   ]
  },
  {
   "cell_type": "code",
   "execution_count": 8,
   "metadata": {},
   "outputs": [
    {
     "name": "stdout",
     "output_type": "stream",
     "text": [
      "[knn] best_score : 0.7748577097780751, best_params : {'algorithm': 'ball_tree', 'n_neighbors': 3, 'weights': 'distance'}\n"
     ]
    }
   ],
   "source": [
    "# 5. Tunning\n",
    "# 1) knn\n",
    "from sklearn.model_selection import GridSearchCV\n",
    "\n",
    "knn_params = [\n",
    "    {\n",
    "        'n_neighbors' : [3, 5, 7, 9, 11],\n",
    "        'weights' : ['uniform', 'distance'],\n",
    "        'algorithm' : ['auto', 'ball_tree', 'kd_tree', 'brute']\n",
    "    }\n",
    "]\n",
    "\n",
    "knn_model = KNeighborsRegressor()\n",
    "knn_cv = GridSearchCV(knn_model, knn_params, cv=5)\n",
    "knn_cv.fit(X_train_scaled, y_train)\n",
    "print(f'[knn] best_score : {knn_cv.best_score_}, best_params : {knn_cv.best_params_}')\n"
   ]
  },
  {
   "cell_type": "code",
   "execution_count": 9,
   "metadata": {},
   "outputs": [],
   "source": [
    "# 2) svm\n",
    "# from sklearn.model_selection import GridSearchCV\n",
    "\n",
    "# svm_params = [\n",
    "#     {\n",
    "#         'C' : [1, 10, 100, 1000],\n",
    "#         'kernel' : ['linear', 'poly', 'rbf', 'sigmoid'],\n",
    "#         'gamma' : ['scale', 'auto']\n",
    "#     }\n",
    "# ]\n",
    "# svm_model = SVR()\n",
    "# svm_cv = GridSearchCV(svm_model, svm_params, cv=5)\n",
    "# svm_cv.fit(X_train_scaled, y_train)\n",
    "# print(f'[svm] best_score : {svm_cv.best_score_}, best_params : {svm_cv.best_params_}')\n",
    "\n",
    "# print(svm_model)"
   ]
  },
  {
   "cell_type": "markdown",
   "metadata": {},
   "source": [
    "6분이나 걸림,, 0.814"
   ]
  },
  {
   "cell_type": "code",
   "execution_count": 10,
   "metadata": {},
   "outputs": [
    {
     "name": "stdout",
     "output_type": "stream",
     "text": [
      "[ARDRegression] : <class 'sklearn.linear_model._bayes.ARDRegression'>\n",
      "[AdaBoostRegressor] : <class 'sklearn.ensemble._weight_boosting.AdaBoostRegressor'>\n",
      "[BaggingRegressor] : <class 'sklearn.ensemble._bagging.BaggingRegressor'>\n",
      "[BayesianRidge] : <class 'sklearn.linear_model._bayes.BayesianRidge'>\n",
      "[CCA] : <class 'sklearn.cross_decomposition._pls.CCA'>\n",
      "[DecisionTreeRegressor] : <class 'sklearn.tree._classes.DecisionTreeRegressor'>\n",
      "[DummyRegressor] : <class 'sklearn.dummy.DummyRegressor'>\n",
      "[ElasticNet] : <class 'sklearn.linear_model._coordinate_descent.ElasticNet'>\n",
      "[ElasticNetCV] : <class 'sklearn.linear_model._coordinate_descent.ElasticNetCV'>\n",
      "[ExtraTreeRegressor] : <class 'sklearn.tree._classes.ExtraTreeRegressor'>\n",
      "[ExtraTreesRegressor] : <class 'sklearn.ensemble._forest.ExtraTreesRegressor'>\n",
      "[GammaRegressor] : <class 'sklearn.linear_model._glm.glm.GammaRegressor'>\n",
      "[GaussianProcessRegressor] : <class 'sklearn.gaussian_process._gpr.GaussianProcessRegressor'>\n",
      "[GradientBoostingRegressor] : <class 'sklearn.ensemble._gb.GradientBoostingRegressor'>\n",
      "[HistGradientBoostingRegressor] : <class 'sklearn.ensemble._hist_gradient_boosting.gradient_boosting.HistGradientBoostingRegressor'>\n",
      "[HuberRegressor] : <class 'sklearn.linear_model._huber.HuberRegressor'>\n",
      "[IsotonicRegression] : <class 'sklearn.isotonic.IsotonicRegression'>\n",
      "[KNeighborsRegressor] : <class 'sklearn.neighbors._regression.KNeighborsRegressor'>\n",
      "[KernelRidge] : <class 'sklearn.kernel_ridge.KernelRidge'>\n",
      "[Lars] : <class 'sklearn.linear_model._least_angle.Lars'>\n",
      "[LarsCV] : <class 'sklearn.linear_model._least_angle.LarsCV'>\n",
      "[Lasso] : <class 'sklearn.linear_model._coordinate_descent.Lasso'>\n",
      "[LassoCV] : <class 'sklearn.linear_model._coordinate_descent.LassoCV'>\n",
      "[LassoLars] : <class 'sklearn.linear_model._least_angle.LassoLars'>\n",
      "[LassoLarsCV] : <class 'sklearn.linear_model._least_angle.LassoLarsCV'>\n",
      "[LassoLarsIC] : <class 'sklearn.linear_model._least_angle.LassoLarsIC'>\n",
      "[LinearRegression] : <class 'sklearn.linear_model._base.LinearRegression'>\n",
      "[LinearSVR] : <class 'sklearn.svm._classes.LinearSVR'>\n",
      "[MLPRegressor] : <class 'sklearn.neural_network._multilayer_perceptron.MLPRegressor'>\n",
      "[MultiOutputRegressor] : <class 'sklearn.multioutput.MultiOutputRegressor'>\n",
      "[MultiTaskElasticNet] : <class 'sklearn.linear_model._coordinate_descent.MultiTaskElasticNet'>\n",
      "[MultiTaskElasticNetCV] : <class 'sklearn.linear_model._coordinate_descent.MultiTaskElasticNetCV'>\n",
      "[MultiTaskLasso] : <class 'sklearn.linear_model._coordinate_descent.MultiTaskLasso'>\n",
      "[MultiTaskLassoCV] : <class 'sklearn.linear_model._coordinate_descent.MultiTaskLassoCV'>\n",
      "[NuSVR] : <class 'sklearn.svm._classes.NuSVR'>\n",
      "[OrthogonalMatchingPursuit] : <class 'sklearn.linear_model._omp.OrthogonalMatchingPursuit'>\n",
      "[OrthogonalMatchingPursuitCV] : <class 'sklearn.linear_model._omp.OrthogonalMatchingPursuitCV'>\n",
      "[PLSCanonical] : <class 'sklearn.cross_decomposition._pls.PLSCanonical'>\n",
      "[PLSRegression] : <class 'sklearn.cross_decomposition._pls.PLSRegression'>\n",
      "[PassiveAggressiveRegressor] : <class 'sklearn.linear_model._passive_aggressive.PassiveAggressiveRegressor'>\n",
      "[PoissonRegressor] : <class 'sklearn.linear_model._glm.glm.PoissonRegressor'>\n",
      "[QuantileRegressor] : <class 'sklearn.linear_model._quantile.QuantileRegressor'>\n",
      "[RANSACRegressor] : <class 'sklearn.linear_model._ransac.RANSACRegressor'>\n",
      "[RadiusNeighborsRegressor] : <class 'sklearn.neighbors._regression.RadiusNeighborsRegressor'>\n",
      "[RandomForestRegressor] : <class 'sklearn.ensemble._forest.RandomForestRegressor'>\n",
      "[RegressorChain] : <class 'sklearn.multioutput.RegressorChain'>\n",
      "[Ridge] : <class 'sklearn.linear_model._ridge.Ridge'>\n",
      "[RidgeCV] : <class 'sklearn.linear_model._ridge.RidgeCV'>\n",
      "[SGDRegressor] : <class 'sklearn.linear_model._stochastic_gradient.SGDRegressor'>\n",
      "[SVR] : <class 'sklearn.svm._classes.SVR'>\n",
      "[StackingRegressor] : <class 'sklearn.ensemble._stacking.StackingRegressor'>\n",
      "[TheilSenRegressor] : <class 'sklearn.linear_model._theil_sen.TheilSenRegressor'>\n",
      "[TransformedTargetRegressor] : <class 'sklearn.compose._target.TransformedTargetRegressor'>\n",
      "[TweedieRegressor] : <class 'sklearn.linear_model._glm.glm.TweedieRegressor'>\n",
      "[VotingRegressor] : <class 'sklearn.ensemble._voting.VotingRegressor'>\n"
     ]
    }
   ],
   "source": [
    "# all estimators\n",
    "from sklearn.utils import all_estimators\n",
    "\n",
    "allAlgorithms = all_estimators(type_filter='regressor')\n",
    "# print(allAlgorithms)\n",
    "all_regressor = []\n",
    "all_regressor_name = []\n",
    "# c = 0\n",
    "for name, model in allAlgorithms:\n",
    "    print(f'[{name}] : {model}')\n",
    "    all_regressor.append(model)\n",
    "    all_regressor_name.append(name)\n",
    "    # c += 1\n",
    "# print(c)"
   ]
  },
  {
   "cell_type": "code",
   "execution_count": 11,
   "metadata": {},
   "outputs": [],
   "source": [
    "# regression 재정의\n",
    "all_regressor_name =[ 'AdaBoostRegressor',\n",
    "                    'DecisionTreeRegressor',\n",
    "                    'ElasticNetCV',\n",
    "                    'ExtraTreeRegressor',\n",
    "                    'ExtraTreesRegressor',\n",
    "                    'GradientBoostingRegressor',\n",
    "                    'KNeighborsRegressor',\n",
    "                    'KernelRidge',\n",
    "                    'Lasso',\n",
    "                    'LassoCV',\n",
    "                    'LinearRegression',\n",
    "                    'LinearSVR',\n",
    "                    'RandomForestRegressor',\n",
    "                    'Ridge',\n",
    "                    'RidgeCV',\n",
    "                    'SGDRegressor',\n",
    "                    'SVR',\n",
    "                    'VotingRegressor']\n",
    "\n",
    "all_regressor = []\n",
    "for name, model in allAlgorithms:\n",
    "    if name in all_regressor_name:\n",
    "        all_regressor.append((name, model))"
   ]
  },
  {
   "cell_type": "code",
   "execution_count": 16,
   "metadata": {},
   "outputs": [
    {
     "name": "stdout",
     "output_type": "stream",
     "text": [
      "[AdaBoostRegressor]\n",
      "Score  0.5385730959153368\n",
      "[DecisionTreeRegressor]\n",
      "Score  0.7734418396381273\n",
      "[ElasticNetCV]\n",
      "Score  0.46784379252801744\n",
      "[ExtraTreeRegressor]\n",
      "Score  0.7467327445305103\n",
      "[ExtraTreesRegressor]\n",
      "Score  0.8752045078858683\n",
      "[GradientBoostingRegressor]\n",
      "Score  0.7103917147120138\n",
      "[KNeighborsRegressor]\n",
      "Score  0.7254035435735884\n",
      "[KernelRidge]\n",
      "Score  0.46690494266806093\n",
      "[Lasso]\n",
      "Score  0.1684703420354825\n",
      "[LassoCV]\n",
      "Score  0.46412954377791893\n",
      "[LinearRegression]\n",
      "Score  0.46332120155351153\n",
      "[LinearSVR]\n",
      "Score  0.45201857896822284\n",
      "[RandomForestRegressor]\n"
     ]
    },
    {
     "name": "stderr",
     "output_type": "stream",
     "text": [
      "c:\\Users\\wjs31\\.conda\\envs\\EXAM_MML\\lib\\site-packages\\sklearn\\svm\\_classes.py:32: FutureWarning: The default value of `dual` will change from `True` to `'auto'` in 1.5. Set the value of `dual` explicitly to suppress the warning.\n",
      "  warnings.warn(\n"
     ]
    },
    {
     "name": "stdout",
     "output_type": "stream",
     "text": [
      "Score  0.8670775642701871\n",
      "[Ridge]\n",
      "Score  0.46528414805470475\n",
      "[RidgeCV]\n",
      "Score  0.4635628954648421\n",
      "[SGDRegressor]\n",
      "Score  0.4536724379305632\n",
      "[SVR]\n",
      "Score  0.5865095662379763\n",
      "[VotingRegressor]\n",
      "__init__() missing 1 required positional argument: 'estimators'\n",
      "End\n",
      "[('ExtraTreesRegressor', 0.8752045078858683), ('RandomForestRegressor', 0.8670775642701871), ('DecisionTreeRegressor', 0.7734418396381273)]\n",
      "Best Score : ('ExtraTreesRegressor', 0.8752045078858683)\n"
     ]
    },
    {
     "data": {
      "text/html": [
       "<div>\n",
       "<style scoped>\n",
       "    .dataframe tbody tr th:only-of-type {\n",
       "        vertical-align: middle;\n",
       "    }\n",
       "\n",
       "    .dataframe tbody tr th {\n",
       "        vertical-align: top;\n",
       "    }\n",
       "\n",
       "    .dataframe thead th {\n",
       "        text-align: right;\n",
       "    }\n",
       "</style>\n",
       "<table border=\"1\" class=\"dataframe\">\n",
       "  <thead>\n",
       "    <tr style=\"text-align: right;\">\n",
       "      <th></th>\n",
       "      <th>0</th>\n",
       "      <th>1</th>\n",
       "      <th>2</th>\n",
       "      <th>3</th>\n",
       "      <th>4</th>\n",
       "      <th>5</th>\n",
       "      <th>6</th>\n",
       "      <th>7</th>\n",
       "      <th>8</th>\n",
       "      <th>9</th>\n",
       "      <th>10</th>\n",
       "      <th>11</th>\n",
       "      <th>12</th>\n",
       "      <th>13</th>\n",
       "      <th>14</th>\n",
       "      <th>15</th>\n",
       "      <th>16</th>\n",
       "    </tr>\n",
       "  </thead>\n",
       "  <tbody>\n",
       "    <tr>\n",
       "      <th>Model Name</th>\n",
       "      <td>ExtraTreesRegressor</td>\n",
       "      <td>RandomForestRegressor</td>\n",
       "      <td>DecisionTreeRegressor</td>\n",
       "      <td>ExtraTreeRegressor</td>\n",
       "      <td>KNeighborsRegressor</td>\n",
       "      <td>GradientBoostingRegressor</td>\n",
       "      <td>SVR</td>\n",
       "      <td>AdaBoostRegressor</td>\n",
       "      <td>ElasticNetCV</td>\n",
       "      <td>KernelRidge</td>\n",
       "      <td>Ridge</td>\n",
       "      <td>LassoCV</td>\n",
       "      <td>RidgeCV</td>\n",
       "      <td>LinearRegression</td>\n",
       "      <td>SGDRegressor</td>\n",
       "      <td>LinearSVR</td>\n",
       "      <td>Lasso</td>\n",
       "    </tr>\n",
       "    <tr>\n",
       "      <th>Score</th>\n",
       "      <td>0.875205</td>\n",
       "      <td>0.867078</td>\n",
       "      <td>0.773442</td>\n",
       "      <td>0.746733</td>\n",
       "      <td>0.725404</td>\n",
       "      <td>0.710392</td>\n",
       "      <td>0.58651</td>\n",
       "      <td>0.538573</td>\n",
       "      <td>0.467844</td>\n",
       "      <td>0.466905</td>\n",
       "      <td>0.465284</td>\n",
       "      <td>0.46413</td>\n",
       "      <td>0.463563</td>\n",
       "      <td>0.463321</td>\n",
       "      <td>0.453672</td>\n",
       "      <td>0.452019</td>\n",
       "      <td>0.16847</td>\n",
       "    </tr>\n",
       "  </tbody>\n",
       "</table>\n",
       "</div>"
      ],
      "text/plain": [
       "                             0                      1                      2   \\\n",
       "Model Name  ExtraTreesRegressor  RandomForestRegressor  DecisionTreeRegressor   \n",
       "Score                  0.875205               0.867078               0.773442   \n",
       "\n",
       "                            3                    4   \\\n",
       "Model Name  ExtraTreeRegressor  KNeighborsRegressor   \n",
       "Score                 0.746733             0.725404   \n",
       "\n",
       "                                   5        6                  7   \\\n",
       "Model Name  GradientBoostingRegressor      SVR  AdaBoostRegressor   \n",
       "Score                        0.710392  0.58651           0.538573   \n",
       "\n",
       "                      8            9         10       11        12  \\\n",
       "Model Name  ElasticNetCV  KernelRidge     Ridge  LassoCV   RidgeCV   \n",
       "Score           0.467844     0.466905  0.465284  0.46413  0.463563   \n",
       "\n",
       "                          13            14         15       16  \n",
       "Model Name  LinearRegression  SGDRegressor  LinearSVR    Lasso  \n",
       "Score               0.463321      0.453672   0.452019  0.16847  "
      ]
     },
     "execution_count": 16,
     "metadata": {},
     "output_type": "execute_result"
    }
   ],
   "source": [
    "# all regression evaluate\n",
    "from sklearn.model_selection import cross_val_score\n",
    "\n",
    "score_list = []\n",
    "for name, model in all_regressor:\n",
    "    try:\n",
    "        print(f'[{name}]')\n",
    "        md = model()\n",
    "        md.fit(X_train_scaled, y_train)\n",
    "        print('Score ', md.score(X_test_scaled, y_test))\n",
    "        score_list.append((name, md.score(X_test_scaled, y_test)))\n",
    "    except Exception as e:\n",
    "        print(e)\n",
    "print('End')\n",
    "\n",
    "# Score 높은 순으로 세 모델\n",
    "score_list.sort(key=lambda x: x[1], reverse=True)\n",
    "print(score_list[:3])\n",
    "\n",
    "best_score = max(score_list, key=lambda x: x[1])\n",
    "print(f'Best Score : {best_score}')\n",
    "\n",
    "# DataFrame 생성\n",
    "df = pd.DataFrame(score_list, columns=['Model Name', 'Score'])\n",
    "dfT = df.T\n",
    "dfT"
   ]
  },
  {
   "cell_type": "markdown",
   "metadata": {},
   "source": [
    "Top3  \n",
    "[('ExtraTreesRegressor', 0.8775413633939323), ('RandomForestRegressor', 0.8633857090306292), ('KNeighborsRegressor', 0.7421718468857268)]"
   ]
  },
  {
   "cell_type": "code",
   "execution_count": null,
   "metadata": {},
   "outputs": [],
   "source": []
  },
  {
   "cell_type": "code",
   "execution_count": 17,
   "metadata": {},
   "outputs": [
    {
     "name": "stdout",
     "output_type": "stream",
     "text": [
      "ExtraTreesRegressor train score : 0.999913205460496\n",
      "ExtraTreesRegressor test score : 0.873778480033476\n",
      "RandomForestRegressor train score : 0.9797482361994446\n",
      "RandomForestRegressor test score : 0.8658651765749581\n"
     ]
    }
   ],
   "source": [
    "# ExtraTreesRegressor 점수 확인\n",
    "from sklearn.ensemble import ExtraTreesRegressor\n",
    "et_reg = ExtraTreesRegressor()\n",
    "et_reg.fit(X_train_scaled, y_train)\n",
    "print(f'ExtraTreesRegressor train score : {et_reg.score(X_train_scaled, y_train)}')\n",
    "print(f'ExtraTreesRegressor test score : {et_reg.score(X_test_scaled, y_test)}')\n",
    "\n",
    "# RandomForest\n",
    "from sklearn.ensemble import RandomForestRegressor\n",
    "rfr = RandomForestRegressor()\n",
    "rfr.fit(X_train_scaled, y_train)\n",
    "print(f'RandomForestRegressor train score : {rfr.score(X_train_scaled, y_train)}')\n",
    "print(f'RandomForestRegressor test score : {rfr.score(X_test_scaled, y_test)}')"
   ]
  },
  {
   "cell_type": "code",
   "execution_count": null,
   "metadata": {},
   "outputs": [],
   "source": []
  },
  {
   "cell_type": "markdown",
   "metadata": {},
   "source": [
    "ExtraTreesRegressor 에서 가장 높은 성능을 보여준다.\n",
    "\n",
    "<hr>"
   ]
  },
  {
   "cell_type": "code",
   "execution_count": 18,
   "metadata": {},
   "outputs": [
    {
     "name": "stdout",
     "output_type": "stream",
     "text": [
      "{'criterion': 'absolute_error', 'max_depth': 20, 'min_samples_split': 2, 'n_estimators': 150}\n",
      "ExtraTreesRegressor(criterion='absolute_error', max_depth=20, n_estimators=150)\n",
      "0.8645904847440218\n"
     ]
    }
   ],
   "source": [
    "# GridSearchCV 활용\n",
    "from sklearn.model_selection import GridSearchCV\n",
    "\n",
    "param_grid = [\n",
    "    {'n_estimators': [30, 100, 150], # 생성 트리 수\n",
    "     'max_depth': [None, 10, 20],     # 트리의 최대 깊이\n",
    "     'min_samples_split': [2, 10],      # 내부 노드 분할에 필요한 최소 샘플 수\n",
    "     'criterion': ['squared_error', 'absolute_error', 'poisson']   # 분할 품질 측정 기능 기준\n",
    "    }\n",
    "]\n",
    "\n",
    "gcv = GridSearchCV(estimator=ExtraTreesRegressor(), param_grid=param_grid, cv=5)\n",
    "gcv.fit(X_train_scaled, y_train)\n",
    "print(gcv.best_params_)\n",
    "print(gcv.best_estimator_)\n",
    "print(gcv.best_score_)"
   ]
  },
  {
   "cell_type": "markdown",
   "metadata": {},
   "source": [
    "교차 검증으로 평균을 내니 점수가 더 떨어진 것으로 예상"
   ]
  },
  {
   "cell_type": "markdown",
   "metadata": {},
   "source": [
    "랜덤포레스트는 최적의 분할 선택,\n",
    "엑스트라트리는 노드를 무작위로 분할하여 선택하므로\n",
    "랜덤 포레스트도 튜닝 진행"
   ]
  },
  {
   "cell_type": "code",
   "execution_count": null,
   "metadata": {},
   "outputs": [
    {
     "name": "stdout",
     "output_type": "stream",
     "text": [
      "RandomForestRegressor train score : 0.9791693219753094\n",
      "RandomForestRegressor test score : 0.8676928223010953\n"
     ]
    }
   ],
   "source": [
    "# RandomForest\n",
    "from sklearn.ensemble import RandomForestRegressor\n",
    "rfr = RandomForestRegressor()\n",
    "rfr.fit(X_train_scaled, y_train)\n",
    "print(f'RandomForestRegressor train score : {rfr.score(X_train_scaled, y_train)}')\n",
    "print(f'RandomForestRegressor test score : {rfr.score(X_test_scaled, y_test)}')"
   ]
  },
  {
   "cell_type": "code",
   "execution_count": null,
   "metadata": {},
   "outputs": [
    {
     "name": "stdout",
     "output_type": "stream",
     "text": [
      "{'criterion': 'poisson', 'max_depth': 20, 'max_features': 'sqrt', 'max_leaf_nodes': None, 'min_samples_leaf': 1, 'min_samples_split': 2, 'n_estimators': 150}\n",
      "RandomForestRegressor(criterion='poisson', max_depth=20, max_features='sqrt',\n",
      "                      n_estimators=150)\n",
      "0.8699864529607684\n"
     ]
    }
   ],
   "source": [
    "# 랜덤포레스트 튜닝\n",
    "param_grid = [\n",
    "    {\n",
    "        'n_estimators': [30, 100, 150],\n",
    "        'min_samples_split': [2, 10],\n",
    "        'min_samples_leaf': [1, 5],\n",
    "        'max_features': ['log2', 'sqrt'],\n",
    "        'max_depth': [None, 10, 20],\n",
    "        'max_leaf_nodes': [None, 10, 20],\n",
    "        'criterion' : ['squared_error', 'absolute_error', 'friedman_mse', 'poisson']\n",
    "    }\n",
    "]\n",
    "gcvRF = GridSearchCV(estimator=RandomForestRegressor(), param_grid=param_grid, cv=5)\n",
    "gcvRF.fit(X_train_scaled, y_train)\n",
    "print(gcvRF.best_params_)\n",
    "print(gcvRF.best_estimator_)\n",
    "print(gcvRF.best_score_)\n",
    "\n"
   ]
  },
  {
   "cell_type": "code",
   "execution_count": 31,
   "metadata": {},
   "outputs": [],
   "source": [
    "# --- 모델이 더 잘 나온다, random state 를 건들면?\n"
   ]
  },
  {
   "cell_type": "markdown",
   "metadata": {},
   "source": [
    "Random State 별로 해보기"
   ]
  },
  {
   "cell_type": "code",
   "execution_count": 27,
   "metadata": {},
   "outputs": [],
   "source": [
    "tr_scores, te_scores = [], []\n",
    "for i in range(1, 150):\n",
    "    rfrs = RandomForestRegressor(random_state=i+1)\n",
    "    rfrs.fit(X_train_scaled, y_train)\n",
    "    tr_scores.append(rfrs.score(X_train_scaled, y_train))\n",
    "    te_scores.append(rfrs.score(X_test_scaled, y_test))"
   ]
  },
  {
   "cell_type": "code",
   "execution_count": 33,
   "metadata": {},
   "outputs": [
    {
     "name": "stdout",
     "output_type": "stream",
     "text": [
      "Best Random State : 4\n",
      "train score : 0.980298022548005, test score : 0.875301242533411\n"
     ]
    }
   ],
   "source": [
    "best_index = te_scores.index(max(te_scores))\n",
    "print(f\"Best Random State : {best_index+1}\")\n",
    "print(f'train score : {tr_scores[best_index]}, test score : {te_scores[best_index]}')"
   ]
  },
  {
   "cell_type": "markdown",
   "metadata": {},
   "source": [
    "ExtraTrees 도 해보기"
   ]
  },
  {
   "cell_type": "code",
   "execution_count": 34,
   "metadata": {},
   "outputs": [],
   "source": [
    "tr_scores2, te_scores2 = [], []\n",
    "for i in range(1, 150):\n",
    "    rfrs2 = ExtraTreesRegressor(random_state=i+1)\n",
    "    rfrs2.fit(X_train_scaled, y_train)\n",
    "    tr_scores2.append(rfrs2.score(X_train_scaled, y_train))\n",
    "    te_scores2.append(rfrs2.score(X_test_scaled, y_test))"
   ]
  },
  {
   "cell_type": "code",
   "execution_count": 35,
   "metadata": {},
   "outputs": [
    {
     "name": "stdout",
     "output_type": "stream",
     "text": [
      "Best Random State : 11\n",
      "train score : 0.999913205460496, test score : 0.8763807128694969\n"
     ]
    }
   ],
   "source": [
    "best_index2 = te_scores2.index(max(te_scores2))\n",
    "print(f\"Best Random State : {best_index2+1}\")\n",
    "print(f'train score : {tr_scores2[best_index2]}, test score : {te_scores2[best_index2]}')"
   ]
  },
  {
   "cell_type": "markdown",
   "metadata": {},
   "source": [
    "Best 값으로 성능 계산"
   ]
  },
  {
   "cell_type": "code",
   "execution_count": 42,
   "metadata": {},
   "outputs": [
    {
     "name": "stdout",
     "output_type": "stream",
     "text": [
      "RandomForestRegressor train score : 0.9827095695699457\n",
      "RandomForestRegressor test score : 0.8764206794471032\n"
     ]
    }
   ],
   "source": [
    "rfbs = RandomForestRegressor(\n",
    "    criterion=\"poisson\", max_depth=20, max_features=\"sqrt\", n_estimators=150, random_state=4\n",
    ")\n",
    "rfbs.fit(X_train_scaled, y_train)\n",
    "print(f\"RandomForestRegressor train score : {rfbs.score(X_train_scaled, y_train)}\")\n",
    "print(f\"RandomForestRegressor test score : {rfbs.score(X_test_scaled, y_test)}\")"
   ]
  },
  {
   "cell_type": "code",
   "execution_count": 36,
   "metadata": {},
   "outputs": [
    {
     "name": "stdout",
     "output_type": "stream",
     "text": [
      "ExtraTreesRegressor train score : 0.9988227212700554\n",
      "ExtraTreesRegressor test score : 0.876667628676866\n"
     ]
    }
   ],
   "source": [
    "etbs = ExtraTreesRegressor(\n",
    "    criterion='absolute_error', max_depth=20, n_estimators=150\n",
    ")\n",
    "etbs.fit(X_train_scaled, y_train)\n",
    "print(f\"ExtraTreesRegressor train score : {etbs.score(X_train_scaled, y_train)}\")\n",
    "print(f\"ExtraTreesRegressor test score : {etbs.score(X_test_scaled, y_test)}\")"
   ]
  },
  {
   "cell_type": "markdown",
   "metadata": {},
   "source": [
    "<hr>"
   ]
  },
  {
   "cell_type": "code",
   "execution_count": 41,
   "metadata": {},
   "outputs": [
    {
     "name": "stdout",
     "output_type": "stream",
     "text": [
      "1\n",
      "XGBRegressor train score : 0.6742909502919284\n",
      "XGBRegressor test score : 0.6351434183607344\n",
      "3\n",
      "XGBRegressor train score : 0.8644196239422395\n",
      "XGBRegressor test score : 0.7892515201601549\n",
      "5\n",
      "XGBRegressor train score : 0.9133592975439285\n",
      "XGBRegressor test score : 0.8233204520115194\n",
      "7\n",
      "XGBRegressor train score : 0.9262174767050844\n",
      "XGBRegressor test score : 0.8259060625292108\n",
      "9\n",
      "XGBRegressor train score : 0.9470704467032398\n",
      "XGBRegressor test score : 0.8386684714188013\n",
      "11\n",
      "XGBRegressor train score : 0.9537587933878635\n",
      "XGBRegressor test score : 0.8378038784239954\n",
      "13\n",
      "XGBRegressor train score : 0.9604844785782993\n",
      "XGBRegressor test score : 0.8384502643208311\n",
      "15\n",
      "XGBRegressor train score : 0.9705330131461466\n",
      "XGBRegressor test score : 0.8505673762479197\n",
      "17\n",
      "XGBRegressor train score : 0.9785452788086604\n",
      "XGBRegressor test score : 0.8455410495310788\n",
      "19\n",
      "XGBRegressor train score : 0.9784375971187075\n",
      "XGBRegressor test score : 0.8404418097908684\n"
     ]
    }
   ],
   "source": [
    "# XGBoost\n",
    "from xgboost import XGBRegressor\n",
    "\n",
    "for i in range(1, 20, 2):\n",
    "    xgbr = XGBRegressor(eta=i*0.01)\n",
    "    xgbr.fit(X_train_scaled, y_train)\n",
    "    print(i)\n",
    "    print(f'XGBRegressor train score : {xgbr.score(X_train_scaled, y_train)}')\n",
    "    print(f'XGBRegressor test score : {xgbr.score(X_test_scaled, y_test)}')\n"
   ]
  },
  {
   "cell_type": "code",
   "execution_count": 21,
   "metadata": {},
   "outputs": [
    {
     "ename": "LightGBMError",
     "evalue": "Do not support special JSON characters in feature name.",
     "output_type": "error",
     "traceback": [
      "\u001b[1;31m---------------------------------------------------------------------------\u001b[0m",
      "\u001b[1;31mLightGBMError\u001b[0m                             Traceback (most recent call last)",
      "Cell \u001b[1;32mIn[21], line 4\u001b[0m\n\u001b[0;32m      2\u001b[0m \u001b[38;5;28;01mfrom\u001b[39;00m \u001b[38;5;21;01mlightgbm\u001b[39;00m \u001b[38;5;28;01mimport\u001b[39;00m LGBMRegressor\n\u001b[0;32m      3\u001b[0m lgbr \u001b[38;5;241m=\u001b[39m LGBMRegressor()\n\u001b[1;32m----> 4\u001b[0m \u001b[43mlgbr\u001b[49m\u001b[38;5;241;43m.\u001b[39;49m\u001b[43mfit\u001b[49m\u001b[43m(\u001b[49m\u001b[43mX_train_scaled\u001b[49m\u001b[43m,\u001b[49m\u001b[43m \u001b[49m\u001b[43my_train\u001b[49m\u001b[43m)\u001b[49m\n\u001b[0;32m      5\u001b[0m \u001b[38;5;28mprint\u001b[39m(\u001b[38;5;124mf\u001b[39m\u001b[38;5;124m'\u001b[39m\u001b[38;5;124mLGBMRegressor train score : \u001b[39m\u001b[38;5;132;01m{\u001b[39;00mlgbr\u001b[38;5;241m.\u001b[39mscore(X_train_scaled,\u001b[38;5;250m \u001b[39my_train)\u001b[38;5;132;01m}\u001b[39;00m\u001b[38;5;124m'\u001b[39m)\n\u001b[0;32m      6\u001b[0m \u001b[38;5;28mprint\u001b[39m(\u001b[38;5;124mf\u001b[39m\u001b[38;5;124m'\u001b[39m\u001b[38;5;124mLGBMRegressor test score : \u001b[39m\u001b[38;5;132;01m{\u001b[39;00mlgbr\u001b[38;5;241m.\u001b[39mscore(X_test_scaled,\u001b[38;5;250m \u001b[39my_test)\u001b[38;5;132;01m}\u001b[39;00m\u001b[38;5;124m'\u001b[39m)\n",
      "File \u001b[1;32mc:\\Users\\wjs31\\.conda\\envs\\EXAM_MML\\lib\\site-packages\\lightgbm\\sklearn.py:1092\u001b[0m, in \u001b[0;36mLGBMRegressor.fit\u001b[1;34m(self, X, y, sample_weight, init_score, eval_set, eval_names, eval_sample_weight, eval_init_score, eval_metric, feature_name, categorical_feature, callbacks, init_model)\u001b[0m\n\u001b[0;32m   1075\u001b[0m \u001b[38;5;28;01mdef\u001b[39;00m \u001b[38;5;21mfit\u001b[39m(  \u001b[38;5;66;03m# type: ignore[override]\u001b[39;00m\n\u001b[0;32m   1076\u001b[0m     \u001b[38;5;28mself\u001b[39m,\n\u001b[0;32m   1077\u001b[0m     X: _LGBM_ScikitMatrixLike,\n\u001b[1;32m   (...)\u001b[0m\n\u001b[0;32m   1089\u001b[0m     init_model: Optional[Union[\u001b[38;5;28mstr\u001b[39m, Path, Booster, LGBMModel]] \u001b[38;5;241m=\u001b[39m \u001b[38;5;28;01mNone\u001b[39;00m\n\u001b[0;32m   1090\u001b[0m ) \u001b[38;5;241m-\u001b[39m\u001b[38;5;241m>\u001b[39m \u001b[38;5;124m\"\u001b[39m\u001b[38;5;124mLGBMRegressor\u001b[39m\u001b[38;5;124m\"\u001b[39m:\n\u001b[0;32m   1091\u001b[0m \u001b[38;5;250m    \u001b[39m\u001b[38;5;124;03m\"\"\"Docstring is inherited from the LGBMModel.\"\"\"\u001b[39;00m\n\u001b[1;32m-> 1092\u001b[0m     \u001b[38;5;28;43msuper\u001b[39;49m\u001b[43m(\u001b[49m\u001b[43m)\u001b[49m\u001b[38;5;241;43m.\u001b[39;49m\u001b[43mfit\u001b[49m\u001b[43m(\u001b[49m\n\u001b[0;32m   1093\u001b[0m \u001b[43m        \u001b[49m\u001b[43mX\u001b[49m\u001b[43m,\u001b[49m\n\u001b[0;32m   1094\u001b[0m \u001b[43m        \u001b[49m\u001b[43my\u001b[49m\u001b[43m,\u001b[49m\n\u001b[0;32m   1095\u001b[0m \u001b[43m        \u001b[49m\u001b[43msample_weight\u001b[49m\u001b[38;5;241;43m=\u001b[39;49m\u001b[43msample_weight\u001b[49m\u001b[43m,\u001b[49m\n\u001b[0;32m   1096\u001b[0m \u001b[43m        \u001b[49m\u001b[43minit_score\u001b[49m\u001b[38;5;241;43m=\u001b[39;49m\u001b[43minit_score\u001b[49m\u001b[43m,\u001b[49m\n\u001b[0;32m   1097\u001b[0m \u001b[43m        \u001b[49m\u001b[43meval_set\u001b[49m\u001b[38;5;241;43m=\u001b[39;49m\u001b[43meval_set\u001b[49m\u001b[43m,\u001b[49m\n\u001b[0;32m   1098\u001b[0m \u001b[43m        \u001b[49m\u001b[43meval_names\u001b[49m\u001b[38;5;241;43m=\u001b[39;49m\u001b[43meval_names\u001b[49m\u001b[43m,\u001b[49m\n\u001b[0;32m   1099\u001b[0m \u001b[43m        \u001b[49m\u001b[43meval_sample_weight\u001b[49m\u001b[38;5;241;43m=\u001b[39;49m\u001b[43meval_sample_weight\u001b[49m\u001b[43m,\u001b[49m\n\u001b[0;32m   1100\u001b[0m \u001b[43m        \u001b[49m\u001b[43meval_init_score\u001b[49m\u001b[38;5;241;43m=\u001b[39;49m\u001b[43meval_init_score\u001b[49m\u001b[43m,\u001b[49m\n\u001b[0;32m   1101\u001b[0m \u001b[43m        \u001b[49m\u001b[43meval_metric\u001b[49m\u001b[38;5;241;43m=\u001b[39;49m\u001b[43meval_metric\u001b[49m\u001b[43m,\u001b[49m\n\u001b[0;32m   1102\u001b[0m \u001b[43m        \u001b[49m\u001b[43mfeature_name\u001b[49m\u001b[38;5;241;43m=\u001b[39;49m\u001b[43mfeature_name\u001b[49m\u001b[43m,\u001b[49m\n\u001b[0;32m   1103\u001b[0m \u001b[43m        \u001b[49m\u001b[43mcategorical_feature\u001b[49m\u001b[38;5;241;43m=\u001b[39;49m\u001b[43mcategorical_feature\u001b[49m\u001b[43m,\u001b[49m\n\u001b[0;32m   1104\u001b[0m \u001b[43m        \u001b[49m\u001b[43mcallbacks\u001b[49m\u001b[38;5;241;43m=\u001b[39;49m\u001b[43mcallbacks\u001b[49m\u001b[43m,\u001b[49m\n\u001b[0;32m   1105\u001b[0m \u001b[43m        \u001b[49m\u001b[43minit_model\u001b[49m\u001b[38;5;241;43m=\u001b[39;49m\u001b[43minit_model\u001b[49m\n\u001b[0;32m   1106\u001b[0m \u001b[43m    \u001b[49m\u001b[43m)\u001b[49m\n\u001b[0;32m   1107\u001b[0m     \u001b[38;5;28;01mreturn\u001b[39;00m \u001b[38;5;28mself\u001b[39m\n",
      "File \u001b[1;32mc:\\Users\\wjs31\\.conda\\envs\\EXAM_MML\\lib\\site-packages\\lightgbm\\sklearn.py:885\u001b[0m, in \u001b[0;36mLGBMModel.fit\u001b[1;34m(self, X, y, sample_weight, init_score, group, eval_set, eval_names, eval_sample_weight, eval_class_weight, eval_init_score, eval_group, eval_metric, feature_name, categorical_feature, callbacks, init_model)\u001b[0m\n\u001b[0;32m    882\u001b[0m evals_result: _EvalResultDict \u001b[38;5;241m=\u001b[39m {}\n\u001b[0;32m    883\u001b[0m callbacks\u001b[38;5;241m.\u001b[39mappend(record_evaluation(evals_result))\n\u001b[1;32m--> 885\u001b[0m \u001b[38;5;28mself\u001b[39m\u001b[38;5;241m.\u001b[39m_Booster \u001b[38;5;241m=\u001b[39m \u001b[43mtrain\u001b[49m\u001b[43m(\u001b[49m\n\u001b[0;32m    886\u001b[0m \u001b[43m    \u001b[49m\u001b[43mparams\u001b[49m\u001b[38;5;241;43m=\u001b[39;49m\u001b[43mparams\u001b[49m\u001b[43m,\u001b[49m\n\u001b[0;32m    887\u001b[0m \u001b[43m    \u001b[49m\u001b[43mtrain_set\u001b[49m\u001b[38;5;241;43m=\u001b[39;49m\u001b[43mtrain_set\u001b[49m\u001b[43m,\u001b[49m\n\u001b[0;32m    888\u001b[0m \u001b[43m    \u001b[49m\u001b[43mnum_boost_round\u001b[49m\u001b[38;5;241;43m=\u001b[39;49m\u001b[38;5;28;43mself\u001b[39;49m\u001b[38;5;241;43m.\u001b[39;49m\u001b[43mn_estimators\u001b[49m\u001b[43m,\u001b[49m\n\u001b[0;32m    889\u001b[0m \u001b[43m    \u001b[49m\u001b[43mvalid_sets\u001b[49m\u001b[38;5;241;43m=\u001b[39;49m\u001b[43mvalid_sets\u001b[49m\u001b[43m,\u001b[49m\n\u001b[0;32m    890\u001b[0m \u001b[43m    \u001b[49m\u001b[43mvalid_names\u001b[49m\u001b[38;5;241;43m=\u001b[39;49m\u001b[43meval_names\u001b[49m\u001b[43m,\u001b[49m\n\u001b[0;32m    891\u001b[0m \u001b[43m    \u001b[49m\u001b[43mfeval\u001b[49m\u001b[38;5;241;43m=\u001b[39;49m\u001b[43meval_metrics_callable\u001b[49m\u001b[43m,\u001b[49m\u001b[43m  \u001b[49m\u001b[38;5;66;43;03m# type: ignore[arg-type]\u001b[39;49;00m\n\u001b[0;32m    892\u001b[0m \u001b[43m    \u001b[49m\u001b[43minit_model\u001b[49m\u001b[38;5;241;43m=\u001b[39;49m\u001b[43minit_model\u001b[49m\u001b[43m,\u001b[49m\n\u001b[0;32m    893\u001b[0m \u001b[43m    \u001b[49m\u001b[43mfeature_name\u001b[49m\u001b[38;5;241;43m=\u001b[39;49m\u001b[43mfeature_name\u001b[49m\u001b[43m,\u001b[49m\n\u001b[0;32m    894\u001b[0m \u001b[43m    \u001b[49m\u001b[43mcallbacks\u001b[49m\u001b[38;5;241;43m=\u001b[39;49m\u001b[43mcallbacks\u001b[49m\n\u001b[0;32m    895\u001b[0m \u001b[43m\u001b[49m\u001b[43m)\u001b[49m\n\u001b[0;32m    897\u001b[0m \u001b[38;5;28mself\u001b[39m\u001b[38;5;241m.\u001b[39m_evals_result \u001b[38;5;241m=\u001b[39m evals_result\n\u001b[0;32m    898\u001b[0m \u001b[38;5;28mself\u001b[39m\u001b[38;5;241m.\u001b[39m_best_iteration \u001b[38;5;241m=\u001b[39m \u001b[38;5;28mself\u001b[39m\u001b[38;5;241m.\u001b[39m_Booster\u001b[38;5;241m.\u001b[39mbest_iteration\n",
      "File \u001b[1;32mc:\\Users\\wjs31\\.conda\\envs\\EXAM_MML\\lib\\site-packages\\lightgbm\\engine.py:255\u001b[0m, in \u001b[0;36mtrain\u001b[1;34m(params, train_set, num_boost_round, valid_sets, valid_names, feval, init_model, feature_name, categorical_feature, keep_training_booster, callbacks)\u001b[0m\n\u001b[0;32m    253\u001b[0m \u001b[38;5;66;03m# construct booster\u001b[39;00m\n\u001b[0;32m    254\u001b[0m \u001b[38;5;28;01mtry\u001b[39;00m:\n\u001b[1;32m--> 255\u001b[0m     booster \u001b[38;5;241m=\u001b[39m \u001b[43mBooster\u001b[49m\u001b[43m(\u001b[49m\u001b[43mparams\u001b[49m\u001b[38;5;241;43m=\u001b[39;49m\u001b[43mparams\u001b[49m\u001b[43m,\u001b[49m\u001b[43m \u001b[49m\u001b[43mtrain_set\u001b[49m\u001b[38;5;241;43m=\u001b[39;49m\u001b[43mtrain_set\u001b[49m\u001b[43m)\u001b[49m\n\u001b[0;32m    256\u001b[0m     \u001b[38;5;28;01mif\u001b[39;00m is_valid_contain_train:\n\u001b[0;32m    257\u001b[0m         booster\u001b[38;5;241m.\u001b[39mset_train_data_name(train_data_name)\n",
      "File \u001b[1;32mc:\\Users\\wjs31\\.conda\\envs\\EXAM_MML\\lib\\site-packages\\lightgbm\\basic.py:3433\u001b[0m, in \u001b[0;36mBooster.__init__\u001b[1;34m(self, params, train_set, model_file, model_str)\u001b[0m\n\u001b[0;32m   3426\u001b[0m     \u001b[38;5;28mself\u001b[39m\u001b[38;5;241m.\u001b[39mset_network(\n\u001b[0;32m   3427\u001b[0m         machines\u001b[38;5;241m=\u001b[39mmachines,\n\u001b[0;32m   3428\u001b[0m         local_listen_port\u001b[38;5;241m=\u001b[39mparams[\u001b[38;5;124m\"\u001b[39m\u001b[38;5;124mlocal_listen_port\u001b[39m\u001b[38;5;124m\"\u001b[39m],\n\u001b[0;32m   3429\u001b[0m         listen_time_out\u001b[38;5;241m=\u001b[39mparams\u001b[38;5;241m.\u001b[39mget(\u001b[38;5;124m\"\u001b[39m\u001b[38;5;124mtime_out\u001b[39m\u001b[38;5;124m\"\u001b[39m, \u001b[38;5;241m120\u001b[39m),\n\u001b[0;32m   3430\u001b[0m         num_machines\u001b[38;5;241m=\u001b[39mparams[\u001b[38;5;124m\"\u001b[39m\u001b[38;5;124mnum_machines\u001b[39m\u001b[38;5;124m\"\u001b[39m]\n\u001b[0;32m   3431\u001b[0m     )\n\u001b[0;32m   3432\u001b[0m \u001b[38;5;66;03m# construct booster object\u001b[39;00m\n\u001b[1;32m-> 3433\u001b[0m \u001b[43mtrain_set\u001b[49m\u001b[38;5;241;43m.\u001b[39;49m\u001b[43mconstruct\u001b[49m\u001b[43m(\u001b[49m\u001b[43m)\u001b[49m\n\u001b[0;32m   3434\u001b[0m \u001b[38;5;66;03m# copy the parameters from train_set\u001b[39;00m\n\u001b[0;32m   3435\u001b[0m params\u001b[38;5;241m.\u001b[39mupdate(train_set\u001b[38;5;241m.\u001b[39mget_params())\n",
      "File \u001b[1;32mc:\\Users\\wjs31\\.conda\\envs\\EXAM_MML\\lib\\site-packages\\lightgbm\\basic.py:2462\u001b[0m, in \u001b[0;36mDataset.construct\u001b[1;34m(self)\u001b[0m\n\u001b[0;32m   2455\u001b[0m             \u001b[38;5;28mself\u001b[39m\u001b[38;5;241m.\u001b[39m_set_init_score_by_predictor(\n\u001b[0;32m   2456\u001b[0m                 predictor\u001b[38;5;241m=\u001b[39m\u001b[38;5;28mself\u001b[39m\u001b[38;5;241m.\u001b[39m_predictor,\n\u001b[0;32m   2457\u001b[0m                 data\u001b[38;5;241m=\u001b[39m\u001b[38;5;28mself\u001b[39m\u001b[38;5;241m.\u001b[39mdata,\n\u001b[0;32m   2458\u001b[0m                 used_indices\u001b[38;5;241m=\u001b[39mused_indices\n\u001b[0;32m   2459\u001b[0m             )\n\u001b[0;32m   2460\u001b[0m \u001b[38;5;28;01melse\u001b[39;00m:\n\u001b[0;32m   2461\u001b[0m     \u001b[38;5;66;03m# create train\u001b[39;00m\n\u001b[1;32m-> 2462\u001b[0m     \u001b[38;5;28;43mself\u001b[39;49m\u001b[38;5;241;43m.\u001b[39;49m\u001b[43m_lazy_init\u001b[49m\u001b[43m(\u001b[49m\u001b[43mdata\u001b[49m\u001b[38;5;241;43m=\u001b[39;49m\u001b[38;5;28;43mself\u001b[39;49m\u001b[38;5;241;43m.\u001b[39;49m\u001b[43mdata\u001b[49m\u001b[43m,\u001b[49m\u001b[43m \u001b[49m\u001b[43mlabel\u001b[49m\u001b[38;5;241;43m=\u001b[39;49m\u001b[38;5;28;43mself\u001b[39;49m\u001b[38;5;241;43m.\u001b[39;49m\u001b[43mlabel\u001b[49m\u001b[43m,\u001b[49m\u001b[43m \u001b[49m\u001b[43mreference\u001b[49m\u001b[38;5;241;43m=\u001b[39;49m\u001b[38;5;28;43;01mNone\u001b[39;49;00m\u001b[43m,\u001b[49m\n\u001b[0;32m   2463\u001b[0m \u001b[43m                    \u001b[49m\u001b[43mweight\u001b[49m\u001b[38;5;241;43m=\u001b[39;49m\u001b[38;5;28;43mself\u001b[39;49m\u001b[38;5;241;43m.\u001b[39;49m\u001b[43mweight\u001b[49m\u001b[43m,\u001b[49m\u001b[43m \u001b[49m\u001b[43mgroup\u001b[49m\u001b[38;5;241;43m=\u001b[39;49m\u001b[38;5;28;43mself\u001b[39;49m\u001b[38;5;241;43m.\u001b[39;49m\u001b[43mgroup\u001b[49m\u001b[43m,\u001b[49m\n\u001b[0;32m   2464\u001b[0m \u001b[43m                    \u001b[49m\u001b[43minit_score\u001b[49m\u001b[38;5;241;43m=\u001b[39;49m\u001b[38;5;28;43mself\u001b[39;49m\u001b[38;5;241;43m.\u001b[39;49m\u001b[43minit_score\u001b[49m\u001b[43m,\u001b[49m\u001b[43m \u001b[49m\u001b[43mpredictor\u001b[49m\u001b[38;5;241;43m=\u001b[39;49m\u001b[38;5;28;43mself\u001b[39;49m\u001b[38;5;241;43m.\u001b[39;49m\u001b[43m_predictor\u001b[49m\u001b[43m,\u001b[49m\n\u001b[0;32m   2465\u001b[0m \u001b[43m                    \u001b[49m\u001b[43mfeature_name\u001b[49m\u001b[38;5;241;43m=\u001b[39;49m\u001b[38;5;28;43mself\u001b[39;49m\u001b[38;5;241;43m.\u001b[39;49m\u001b[43mfeature_name\u001b[49m\u001b[43m,\u001b[49m\u001b[43m \u001b[49m\u001b[43mcategorical_feature\u001b[49m\u001b[38;5;241;43m=\u001b[39;49m\u001b[38;5;28;43mself\u001b[39;49m\u001b[38;5;241;43m.\u001b[39;49m\u001b[43mcategorical_feature\u001b[49m\u001b[43m,\u001b[49m\n\u001b[0;32m   2466\u001b[0m \u001b[43m                    \u001b[49m\u001b[43mparams\u001b[49m\u001b[38;5;241;43m=\u001b[39;49m\u001b[38;5;28;43mself\u001b[39;49m\u001b[38;5;241;43m.\u001b[39;49m\u001b[43mparams\u001b[49m\u001b[43m,\u001b[49m\u001b[43m \u001b[49m\u001b[43mposition\u001b[49m\u001b[38;5;241;43m=\u001b[39;49m\u001b[38;5;28;43mself\u001b[39;49m\u001b[38;5;241;43m.\u001b[39;49m\u001b[43mposition\u001b[49m\u001b[43m)\u001b[49m\n\u001b[0;32m   2467\u001b[0m \u001b[38;5;28;01mif\u001b[39;00m \u001b[38;5;28mself\u001b[39m\u001b[38;5;241m.\u001b[39mfree_raw_data:\n\u001b[0;32m   2468\u001b[0m     \u001b[38;5;28mself\u001b[39m\u001b[38;5;241m.\u001b[39mdata \u001b[38;5;241m=\u001b[39m \u001b[38;5;28;01mNone\u001b[39;00m\n",
      "File \u001b[1;32mc:\\Users\\wjs31\\.conda\\envs\\EXAM_MML\\lib\\site-packages\\lightgbm\\basic.py:2123\u001b[0m, in \u001b[0;36mDataset._lazy_init\u001b[1;34m(self, data, label, reference, weight, group, init_score, predictor, feature_name, categorical_feature, params, position)\u001b[0m\n\u001b[0;32m   2121\u001b[0m     \u001b[38;5;28;01mraise\u001b[39;00m \u001b[38;5;167;01mTypeError\u001b[39;00m(\u001b[38;5;124mf\u001b[39m\u001b[38;5;124m'\u001b[39m\u001b[38;5;124mWrong predictor type \u001b[39m\u001b[38;5;132;01m{\u001b[39;00m\u001b[38;5;28mtype\u001b[39m(predictor)\u001b[38;5;241m.\u001b[39m\u001b[38;5;18m__name__\u001b[39m\u001b[38;5;132;01m}\u001b[39;00m\u001b[38;5;124m'\u001b[39m)\n\u001b[0;32m   2122\u001b[0m \u001b[38;5;66;03m# set feature names\u001b[39;00m\n\u001b[1;32m-> 2123\u001b[0m \u001b[38;5;28;01mreturn\u001b[39;00m \u001b[38;5;28;43mself\u001b[39;49m\u001b[38;5;241;43m.\u001b[39;49m\u001b[43mset_feature_name\u001b[49m\u001b[43m(\u001b[49m\u001b[43mfeature_name\u001b[49m\u001b[43m)\u001b[49m\n",
      "File \u001b[1;32mc:\\Users\\wjs31\\.conda\\envs\\EXAM_MML\\lib\\site-packages\\lightgbm\\basic.py:2863\u001b[0m, in \u001b[0;36mDataset.set_feature_name\u001b[1;34m(self, feature_name)\u001b[0m\n\u001b[0;32m   2861\u001b[0m         \u001b[38;5;28;01mraise\u001b[39;00m \u001b[38;5;167;01mValueError\u001b[39;00m(\u001b[38;5;124mf\u001b[39m\u001b[38;5;124m\"\u001b[39m\u001b[38;5;124mLength of feature_name(\u001b[39m\u001b[38;5;132;01m{\u001b[39;00m\u001b[38;5;28mlen\u001b[39m(feature_name)\u001b[38;5;132;01m}\u001b[39;00m\u001b[38;5;124m) and num_feature(\u001b[39m\u001b[38;5;132;01m{\u001b[39;00m\u001b[38;5;28mself\u001b[39m\u001b[38;5;241m.\u001b[39mnum_feature()\u001b[38;5;132;01m}\u001b[39;00m\u001b[38;5;124m) don\u001b[39m\u001b[38;5;124m'\u001b[39m\u001b[38;5;124mt match\u001b[39m\u001b[38;5;124m\"\u001b[39m)\n\u001b[0;32m   2862\u001b[0m     c_feature_name \u001b[38;5;241m=\u001b[39m [_c_str(name) \u001b[38;5;28;01mfor\u001b[39;00m name \u001b[38;5;129;01min\u001b[39;00m feature_name]\n\u001b[1;32m-> 2863\u001b[0m     \u001b[43m_safe_call\u001b[49m\u001b[43m(\u001b[49m\u001b[43m_LIB\u001b[49m\u001b[38;5;241;43m.\u001b[39;49m\u001b[43mLGBM_DatasetSetFeatureNames\u001b[49m\u001b[43m(\u001b[49m\n\u001b[0;32m   2864\u001b[0m \u001b[43m        \u001b[49m\u001b[38;5;28;43mself\u001b[39;49m\u001b[38;5;241;43m.\u001b[39;49m\u001b[43m_handle\u001b[49m\u001b[43m,\u001b[49m\n\u001b[0;32m   2865\u001b[0m \u001b[43m        \u001b[49m\u001b[43m_c_array\u001b[49m\u001b[43m(\u001b[49m\u001b[43mctypes\u001b[49m\u001b[38;5;241;43m.\u001b[39;49m\u001b[43mc_char_p\u001b[49m\u001b[43m,\u001b[49m\u001b[43m \u001b[49m\u001b[43mc_feature_name\u001b[49m\u001b[43m)\u001b[49m\u001b[43m,\u001b[49m\n\u001b[0;32m   2866\u001b[0m \u001b[43m        \u001b[49m\u001b[43mctypes\u001b[49m\u001b[38;5;241;43m.\u001b[39;49m\u001b[43mc_int\u001b[49m\u001b[43m(\u001b[49m\u001b[38;5;28;43mlen\u001b[39;49m\u001b[43m(\u001b[49m\u001b[43mfeature_name\u001b[49m\u001b[43m)\u001b[49m\u001b[43m)\u001b[49m\u001b[43m)\u001b[49m\u001b[43m)\u001b[49m\n\u001b[0;32m   2867\u001b[0m \u001b[38;5;28;01mreturn\u001b[39;00m \u001b[38;5;28mself\u001b[39m\n",
      "File \u001b[1;32mc:\\Users\\wjs31\\.conda\\envs\\EXAM_MML\\lib\\site-packages\\lightgbm\\basic.py:263\u001b[0m, in \u001b[0;36m_safe_call\u001b[1;34m(ret)\u001b[0m\n\u001b[0;32m    255\u001b[0m \u001b[38;5;250m\u001b[39m\u001b[38;5;124;03m\"\"\"Check the return value from C API call.\u001b[39;00m\n\u001b[0;32m    256\u001b[0m \n\u001b[0;32m    257\u001b[0m \u001b[38;5;124;03mParameters\u001b[39;00m\n\u001b[1;32m   (...)\u001b[0m\n\u001b[0;32m    260\u001b[0m \u001b[38;5;124;03m    The return value from C API calls.\u001b[39;00m\n\u001b[0;32m    261\u001b[0m \u001b[38;5;124;03m\"\"\"\u001b[39;00m\n\u001b[0;32m    262\u001b[0m \u001b[38;5;28;01mif\u001b[39;00m ret \u001b[38;5;241m!=\u001b[39m \u001b[38;5;241m0\u001b[39m:\n\u001b[1;32m--> 263\u001b[0m     \u001b[38;5;28;01mraise\u001b[39;00m LightGBMError(_LIB\u001b[38;5;241m.\u001b[39mLGBM_GetLastError()\u001b[38;5;241m.\u001b[39mdecode(\u001b[38;5;124m'\u001b[39m\u001b[38;5;124mutf-8\u001b[39m\u001b[38;5;124m'\u001b[39m))\n",
      "\u001b[1;31mLightGBMError\u001b[0m: Do not support special JSON characters in feature name."
     ]
    }
   ],
   "source": [
    "# lightXG\n",
    "from lightgbm import LGBMRegressor\n",
    "lgbr = LGBMRegressor()\n",
    "lgbr.fit(X_train_scaled, y_train)\n",
    "print(f'LGBMRegressor train score : {lgbr.score(X_train_scaled, y_train)}')\n",
    "print(f'LGBMRegressor test score : {lgbr.score(X_test_scaled, y_test)}')"
   ]
  },
  {
   "cell_type": "markdown",
   "metadata": {},
   "source": [
    "Predict"
   ]
  },
  {
   "cell_type": "code",
   "execution_count": null,
   "metadata": {},
   "outputs": [],
   "source": []
  },
  {
   "cell_type": "markdown",
   "metadata": {},
   "source": [
    "Save Model\n"
   ]
  },
  {
   "cell_type": "code",
   "execution_count": 43,
   "metadata": {},
   "outputs": [],
   "source": [
    "# rfbs 저장\n",
    "import pickle\n",
    "pickle.dump(rfbs, open('rfbs.pkl', 'wb'))\n",
    "# # 저장한 모델 불러오기\n",
    "# rfbs_pkl = pickle.load(open('rfbs.pkl', 'rb'))\n"
   ]
  },
  {
   "cell_type": "code",
   "execution_count": null,
   "metadata": {},
   "outputs": [],
   "source": []
  }
 ],
 "metadata": {
  "kernelspec": {
   "display_name": "EXAM_MML",
   "language": "python",
   "name": "python3"
  },
  "language_info": {
   "codemirror_mode": {
    "name": "ipython",
    "version": 3
   },
   "file_extension": ".py",
   "mimetype": "text/x-python",
   "name": "python",
   "nbconvert_exporter": "python",
   "pygments_lexer": "ipython3",
   "version": "3.9.18"
  }
 },
 "nbformat": 4,
 "nbformat_minor": 2
}
